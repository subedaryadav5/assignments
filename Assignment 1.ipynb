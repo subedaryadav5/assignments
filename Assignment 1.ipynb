{
 "cells": [
  {
   "cell_type": "code",
   "execution_count": 2,
   "id": "27a5d313-70d4-4048-9633-3a758e795b9c",
   "metadata": {},
   "outputs": [],
   "source": [
    "#ASSIGNMENT"
   ]
  },
  {
   "cell_type": "code",
   "execution_count": 3,
   "id": "c60f541e-cd15-4d9e-95f2-57f23113c1f0",
   "metadata": {},
   "outputs": [],
   "source": [
    "#Q1. Create one variable containing following type of data?"
   ]
  },
  {
   "cell_type": "code",
   "execution_count": 6,
   "id": "83ebb760-4e86-4b16-9e83-020f7fcec5ad",
   "metadata": {},
   "outputs": [
    {
     "data": {
      "text/plain": [
       "str"
      ]
     },
     "execution_count": 6,
     "metadata": {},
     "output_type": "execute_result"
    }
   ],
   "source": [
    "#(1) String\n",
    "a=\"This is my first assignment\"\n",
    "type(a)"
   ]
  },
  {
   "cell_type": "code",
   "execution_count": 7,
   "id": "480fc660-6938-4250-90b9-de3ed837928d",
   "metadata": {},
   "outputs": [
    {
     "data": {
      "text/plain": [
       "list"
      ]
     },
     "execution_count": 7,
     "metadata": {},
     "output_type": "execute_result"
    }
   ],
   "source": [
    "#(2) List\n",
    "b=[\"Subedar\", 2.25, 5, True]\n",
    "type(b)"
   ]
  },
  {
   "cell_type": "code",
   "execution_count": 8,
   "id": "27af4b80-41af-45d3-b40d-d9d710cd1dd2",
   "metadata": {},
   "outputs": [
    {
     "data": {
      "text/plain": [
       "float"
      ]
     },
     "execution_count": 8,
     "metadata": {},
     "output_type": "execute_result"
    }
   ],
   "source": [
    "#(3) Float\n",
    "c=2.85\n",
    "type(c)"
   ]
  },
  {
   "cell_type": "code",
   "execution_count": 9,
   "id": "dafc87ca-cdf7-47f9-8edd-a25cce073286",
   "metadata": {},
   "outputs": [
    {
     "data": {
      "text/plain": [
       "tuple"
      ]
     },
     "execution_count": 9,
     "metadata": {},
     "output_type": "execute_result"
    }
   ],
   "source": [
    "#(4) Tuple\n",
    "d=(\"Subedar\", 2.25, 5, True)\n",
    "type(d)"
   ]
  },
  {
   "cell_type": "code",
   "execution_count": 10,
   "id": "5a4aa87d-db4a-4f71-a1f9-631e92bcca0d",
   "metadata": {},
   "outputs": [],
   "source": [
    "# Q2. Given are some following variables containing data:"
   ]
  },
  {
   "cell_type": "code",
   "execution_count": 12,
   "id": "c3d45b1b-a1e7-4afd-99ce-948491fd2976",
   "metadata": {},
   "outputs": [
    {
     "data": {
      "text/plain": [
       "str"
      ]
     },
     "execution_count": 12,
     "metadata": {},
     "output_type": "execute_result"
    }
   ],
   "source": [
    "var1 =''\n",
    "type(var1)"
   ]
  },
  {
   "cell_type": "code",
   "execution_count": 14,
   "id": "edf9a720-45bd-4500-9edb-534b509036ba",
   "metadata": {},
   "outputs": [
    {
     "data": {
      "text/plain": [
       "str"
      ]
     },
     "execution_count": 14,
     "metadata": {},
     "output_type": "execute_result"
    }
   ],
   "source": [
    "var2 = '[ DS , ML , Python]'\n",
    "type(var2)"
   ]
  },
  {
   "cell_type": "code",
   "execution_count": 16,
   "id": "2fff5adc-07f3-4f32-8b50-1240935ccae3",
   "metadata": {},
   "outputs": [
    {
     "data": {
      "text/plain": [
       "list"
      ]
     },
     "execution_count": 16,
     "metadata": {},
     "output_type": "execute_result"
    }
   ],
   "source": [
    "var3 = [ 'DS' , 'ML' , 'Python']\n",
    "type(var3)"
   ]
  },
  {
   "cell_type": "code",
   "execution_count": 17,
   "id": "5f05d7ea-4656-4a85-a0aa-7de6d331cb1d",
   "metadata": {},
   "outputs": [
    {
     "data": {
      "text/plain": [
       "int"
      ]
     },
     "execution_count": 17,
     "metadata": {},
     "output_type": "execute_result"
    }
   ],
   "source": [
    "var4=1\n",
    "type(var4)"
   ]
  },
  {
   "cell_type": "code",
   "execution_count": 18,
   "id": "9eb69991-0e3b-4084-9cb4-46b9b9020eb3",
   "metadata": {},
   "outputs": [],
   "source": [
    "#Q3. Explain the use of the following operators using an example:"
   ]
  },
  {
   "cell_type": "code",
   "execution_count": 43,
   "id": "93f14082-7a33-4af2-99a6-b5556954ad10",
   "metadata": {},
   "outputs": [
    {
     "data": {
      "text/plain": [
       "3.3333333333333335"
      ]
     },
     "execution_count": 43,
     "metadata": {},
     "output_type": "execute_result"
    }
   ],
   "source": [
    "# (1) /\n",
    "10/3"
   ]
  },
  {
   "cell_type": "code",
   "execution_count": 39,
   "id": "0c1da716-b0bb-41e5-bf0e-bb95cc1dab66",
   "metadata": {},
   "outputs": [
    {
     "data": {
      "text/plain": [
       "1"
      ]
     },
     "execution_count": 39,
     "metadata": {},
     "output_type": "execute_result"
    }
   ],
   "source": [
    "# (2) %\n",
    "10%3"
   ]
  },
  {
   "cell_type": "code",
   "execution_count": 41,
   "id": "b1bfc49d-1a5e-4569-9cfa-4162cb6eb392",
   "metadata": {},
   "outputs": [
    {
     "data": {
      "text/plain": [
       "8"
      ]
     },
     "execution_count": 41,
     "metadata": {},
     "output_type": "execute_result"
    }
   ],
   "source": [
    "# (3) //\n",
    "25//3"
   ]
  },
  {
   "cell_type": "code",
   "execution_count": 42,
   "id": "7dd33f8b-8b2f-4f98-8578-d3fe5bbf885f",
   "metadata": {},
   "outputs": [
    {
     "data": {
      "text/plain": [
       "1000"
      ]
     },
     "execution_count": 42,
     "metadata": {},
     "output_type": "execute_result"
    }
   ],
   "source": [
    "#3 (4) **\n",
    "10**3"
   ]
  },
  {
   "cell_type": "code",
   "execution_count": 53,
   "id": "f18da27a-c7db-4cdf-97c3-d37dbb5fe2c7",
   "metadata": {},
   "outputs": [
    {
     "name": "stdout",
     "output_type": "stream",
     "text": [
      "12\n",
      "<class 'int'>\n",
      "Subedar\n",
      "<class 'str'>\n",
      "2.25\n",
      "<class 'float'>\n",
      "True\n",
      "<class 'bool'>\n",
      "36\n",
      "<class 'int'>\n",
      "Yadav\n",
      "<class 'str'>\n",
      "58.55\n",
      "<class 'float'>\n",
      "False\n",
      "<class 'bool'>\n",
      "85\n",
      "<class 'int'>\n",
      "36.5\n",
      "<class 'float'>\n"
     ]
    }
   ],
   "source": [
    "# Q4. Create a list of length 10 of your choice containing multiple types of data. Using for loop print the element and its data type\n",
    "\n",
    "l=[12,\"Subedar\", 2.25, True, 36, \"Yadav\", 58.55, False,85,36.5]\n",
    "for i in l :\n",
    "     print(i)\n",
    "     print(type(i))"
   ]
  },
  {
   "cell_type": "code",
   "execution_count": null,
   "id": "48b67089-23d5-448b-936c-62d568215447",
   "metadata": {},
   "outputs": [],
   "source": [
    "# Q5. Using a while loop, verify if the number A is purely divisible by number B and if so then how many times it can be divisible?\n",
    "\n",
    "\n",
    "        "
   ]
  },
  {
   "cell_type": "code",
   "execution_count": 93,
   "id": "a5f8ccd3-b448-4eb5-b986-d3f523e70df9",
   "metadata": {},
   "outputs": [
    {
     "name": "stdout",
     "output_type": "stream",
     "text": [
      "25 is not divisible by 3.\n",
      "2 is not divisible by 3.\n",
      "6 is divisible by 3.\n",
      "3 is divisible by 3.\n",
      "58 is not divisible by 3.\n",
      "27 is divisible by 3.\n",
      "56 is not divisible by 3.\n",
      "7 is not divisible by 3.\n",
      "24 is divisible by 3.\n"
     ]
    }
   ],
   "source": [
    "# Q6. Create a list containing 25 int type data. Using for loop and if-else condition print if the element is divisible by 3 or not\n",
    "\n",
    "a=[25,2,6,3,58,27,56,7,24]\n",
    "for i in a :\n",
    "    if i % 3==0:\n",
    "        print(f\"{i} is divisible by 3.\")\n",
    "    else :\n",
    "        print(f\"{i} is not divisible by 3.\")"
   ]
  },
  {
   "cell_type": "code",
   "execution_count": 72,
   "id": "2c9b3ba3-ef86-46d8-8fe2-819b3f6521a9",
   "metadata": {},
   "outputs": [],
   "source": [
    "# Q7. What do you understand about mutable and immutable data types? Give examples for both showing this property?\n",
    "\n",
    "# Mutable objects : objects that can be modified at a particular index then it is said as mutable objects.\n",
    "a=[1,\"Subedar\",25.25]\n",
    "a[1]=\"Yadav\""
   ]
  },
  {
   "cell_type": "code",
   "execution_count": 73,
   "id": "b38ecd1b-17be-4a13-b0ea-11c2f1a883a6",
   "metadata": {},
   "outputs": [
    {
     "data": {
      "text/plain": [
       "[1, 'Yadav', 25.25]"
      ]
     },
     "execution_count": 73,
     "metadata": {},
     "output_type": "execute_result"
    }
   ],
   "source": [
    "a"
   ]
  },
  {
   "cell_type": "code",
   "execution_count": 85,
   "id": "d4a0717f-684f-4d86-825f-b3ab30298f55",
   "metadata": {},
   "outputs": [
    {
     "ename": "TypeError",
     "evalue": "'str' object does not support item assignment",
     "output_type": "error",
     "traceback": [
      "\u001b[0;31m---------------------------------------------------------------------------\u001b[0m",
      "\u001b[0;31mTypeError\u001b[0m                                 Traceback (most recent call last)",
      "Cell \u001b[0;32mIn[85], line 4\u001b[0m\n\u001b[1;32m      1\u001b[0m \u001b[38;5;66;03m# immutable objects : objects that can not be modified at a particular index then it is said as immutable objects.\u001b[39;00m\n\u001b[1;32m      3\u001b[0m b\u001b[38;5;241m=\u001b[39m\u001b[38;5;124m\"\u001b[39m\u001b[38;5;124mSubedar\u001b[39m\u001b[38;5;124m\"\u001b[39m\n\u001b[0;32m----> 4\u001b[0m \u001b[43mb\u001b[49m\u001b[43m[\u001b[49m\u001b[38;5;241;43m2\u001b[39;49m\u001b[43m]\u001b[49m\u001b[38;5;241m=\u001b[39me\n",
      "\u001b[0;31mTypeError\u001b[0m: 'str' object does not support item assignment"
     ]
    }
   ],
   "source": [
    "# immutable objects : objects that can not be modified at a particular index then it is said as immutable objects.\n",
    "\n",
    "b=\"Subedar\"\n",
    "b[2]=e"
   ]
  },
  {
   "cell_type": "code",
   "execution_count": 86,
   "id": "610b4c10-dfb8-47d0-9597-ff87f43cce34",
   "metadata": {},
   "outputs": [
    {
     "data": {
      "text/plain": [
       "'Subedar'"
      ]
     },
     "execution_count": 86,
     "metadata": {},
     "output_type": "execute_result"
    }
   ],
   "source": [
    "b"
   ]
  },
  {
   "cell_type": "code",
   "execution_count": null,
   "id": "f1679cb2-06e8-42ca-bd6b-83342666854c",
   "metadata": {},
   "outputs": [],
   "source": []
  }
 ],
 "metadata": {
  "kernelspec": {
   "display_name": "Python 3 (ipykernel)",
   "language": "python",
   "name": "python3"
  },
  "language_info": {
   "codemirror_mode": {
    "name": "ipython",
    "version": 3
   },
   "file_extension": ".py",
   "mimetype": "text/x-python",
   "name": "python",
   "nbconvert_exporter": "python",
   "pygments_lexer": "ipython3",
   "version": "3.10.8"
  }
 },
 "nbformat": 4,
 "nbformat_minor": 5
}
