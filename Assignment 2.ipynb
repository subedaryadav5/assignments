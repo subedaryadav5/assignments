{
 "cells": [
  {
   "cell_type": "code",
   "execution_count": 6,
   "id": "b807055e-4a96-4ada-b5b0-79a7fd92452d",
   "metadata": {},
   "outputs": [
    {
     "data": {
      "text/plain": [
       "\" 2) Multiple line comment : In this we write the sentence in between ('''). This is placed in starting as well \\n    as in the end of the sentence. We can use single codes as well as double codes but if we start with single\\n           codes then we must end that with single code\""
      ]
     },
     "execution_count": 6,
     "metadata": {},
     "output_type": "execute_result"
    }
   ],
   "source": [
    "#Q1. How do you comment code in Python? What are the different types of comments?\n",
    "\n",
    "# Ans : comment in python is written by starting with #, anything written after that will be considered as statement.\n",
    "#      There are two types of comments in python.\n",
    "#     1) Single line comment : in this # is placed in starting of the line\n",
    "\"\"\" 2) Multiple line comment : In this we write the sentence in between ('''). This is placed in starting as well \n",
    "    as in the end of the sentence. We can use single codes as well as double codes but if we start with single\n",
    "           codes then we must end that with single code\"\"\"\n",
    "        "
   ]
  },
  {
   "cell_type": "code",
   "execution_count": 12,
   "id": "bba70d94-5446-4dac-b60e-f9eb38227aab",
   "metadata": {},
   "outputs": [],
   "source": [
    "# Q2) What are variables in Python? How do you declare and assign values to variables?\n",
    "\n",
    "\"\"\" Ans : Variables are used to store data in python.we can takeanything as a variable and use = sign to declare\n",
    "the value Eg :\"\"\"\n",
    "\n",
    "a=25\n",
    "b=[\"Subedar\", 25, 12.25, True]\n",
    "c=\"This is my second assignment\""
   ]
  },
  {
   "cell_type": "code",
   "execution_count": 1,
   "id": "f4eebd24-2991-45d9-89f4-9c0b086dda2b",
   "metadata": {},
   "outputs": [],
   "source": [
    "#Q3. How do you convert one data type to another in Python?\n",
    "\n",
    "x_bool=True"
   ]
  },
  {
   "cell_type": "code",
   "execution_count": 2,
   "id": "2bd8d410-5607-4088-b20f-67ebd61662a4",
   "metadata": {},
   "outputs": [
    {
     "data": {
      "text/plain": [
       "bool"
      ]
     },
     "execution_count": 2,
     "metadata": {},
     "output_type": "execute_result"
    }
   ],
   "source": [
    "type(x_bool)"
   ]
  },
  {
   "cell_type": "code",
   "execution_count": 6,
   "id": "782fddd3-7c2e-483f-8d0f-4902379501e9",
   "metadata": {},
   "outputs": [
    {
     "data": {
      "text/plain": [
       "str"
      ]
     },
     "execution_count": 6,
     "metadata": {},
     "output_type": "execute_result"
    }
   ],
   "source": [
    "x_str=str(True)\n",
    "type(x_str)"
   ]
  },
  {
   "cell_type": "code",
   "execution_count": 10,
   "id": "5fd31791-a9b8-41e6-a0f3-60e8e3c949a4",
   "metadata": {},
   "outputs": [],
   "source": [
    "#Q5. Given a list my_list = [1, 2, 3, 4, 5], write the code to slice the list and obtain the sub-list [2, 3].\n",
    "# Solution ::\n",
    "my_list =[1,2,3,4,5]"
   ]
  },
  {
   "cell_type": "code",
   "execution_count": 11,
   "id": "62ab1263-6b91-42ec-adb7-63efbe597927",
   "metadata": {},
   "outputs": [
    {
     "data": {
      "text/plain": [
       "[2, 3]"
      ]
     },
     "execution_count": 11,
     "metadata": {},
     "output_type": "execute_result"
    }
   ],
   "source": [
    "my_list[1:3]"
   ]
  },
  {
   "cell_type": "code",
   "execution_count": 7,
   "id": "7358dadb-e358-48f0-9841-ec6ed6bf81ae",
   "metadata": {},
   "outputs": [
    {
     "data": {
      "text/plain": [
       "complex"
      ]
     },
     "execution_count": 7,
     "metadata": {},
     "output_type": "execute_result"
    }
   ],
   "source": [
    "#Q6. What is a complex number in mathematics, and how is it represented in Python?\n",
    "\n",
    "#Ans : In mathematics complex number is a number format in which we have real and imaginary part. Eg ::\n",
    "\n",
    "Num=25+58j\n",
    "\n",
    "type(Num)"
   ]
  },
  {
   "cell_type": "code",
   "execution_count": 8,
   "id": "8b36df9a-0f05-4916-b4b1-23a59952208e",
   "metadata": {},
   "outputs": [],
   "source": [
    "#Q7. What is the correct way to declare a variable named age and assign the value 25 to it?\n",
    "\n",
    "#Soln\n",
    "\n",
    "age=25"
   ]
  },
  {
   "cell_type": "code",
   "execution_count": 9,
   "id": "12cb85c0-d758-4263-9e99-d19af78d8d17",
   "metadata": {},
   "outputs": [
    {
     "data": {
      "text/plain": [
       "float"
      ]
     },
     "execution_count": 9,
     "metadata": {},
     "output_type": "execute_result"
    }
   ],
   "source": [
    "#Q8. Declare a variable named price and assign the value 9.99 to it. What data type does this variable belong to?\n",
    "\n",
    "price=9.99\n",
    "type(price)"
   ]
  },
  {
   "cell_type": "code",
   "execution_count": 10,
   "id": "9197ec50-b295-41ff-a564-2bc49e6df529",
   "metadata": {},
   "outputs": [
    {
     "name": "stdout",
     "output_type": "stream",
     "text": [
      "Subedar\n"
     ]
    }
   ],
   "source": [
    "'''Q9. Create a variable named name and assign your full name to it as a string. How would you print the\n",
    "value of this variable?'''\n",
    "\n",
    "# Soln ::\n",
    "\n",
    "name=\"Subedar\"\n",
    "print(name)"
   ]
  },
  {
   "cell_type": "code",
   "execution_count": 14,
   "id": "64034126-0af2-4e78-82ec-5453e4d4646e",
   "metadata": {},
   "outputs": [
    {
     "name": "stdout",
     "output_type": "stream",
     "text": [
      "World\n"
     ]
    }
   ],
   "source": [
    "#Q10. Given the string \"Hello, World!\", extract the substring \"World\".\n",
    "\n",
    "var=\"Hello, World\"\n",
    "var1=var[7:12]\n",
    "print(var1)"
   ]
  },
  {
   "cell_type": "code",
   "execution_count": 15,
   "id": "84f7762e-bf74-4b99-986d-dce0ca92e3fa",
   "metadata": {},
   "outputs": [
    {
     "data": {
      "text/plain": [
       "'Q11. Create a variable named \"is_student\" and assign it a boolean value indicating whether you are currently a \\nstudent or not.'"
      ]
     },
     "execution_count": 15,
     "metadata": {},
     "output_type": "execute_result"
    }
   ],
   "source": [
    "'''Q11. Create a variable named \"is_student\" and assign it a boolean value indicating whether you are currently a \n",
    "student or not.'''"
   ]
  },
  {
   "cell_type": "code",
   "execution_count": 4,
   "id": "89ee54fa-3ead-4bb0-95c9-6a569729057e",
   "metadata": {},
   "outputs": [
    {
     "name": "stdout",
     "output_type": "stream",
     "text": [
      "I'm a student\n"
     ]
    }
   ],
   "source": [
    "is_student=1\n",
    "\n",
    "if is_student==False:\n",
    "    print(\"I'm not a student\")\n",
    "elif is_student==True:\n",
    "    print(\"I'm a student\")\n",
    "else :\n",
    "    print(\"Invalid input\")"
   ]
  },
  {
   "cell_type": "code",
   "execution_count": null,
   "id": "8d882d47-18db-4a29-bc61-490bc5674382",
   "metadata": {},
   "outputs": [],
   "source": []
  }
 ],
 "metadata": {
  "kernelspec": {
   "display_name": "Python 3 (ipykernel)",
   "language": "python",
   "name": "python3"
  },
  "language_info": {
   "codemirror_mode": {
    "name": "ipython",
    "version": 3
   },
   "file_extension": ".py",
   "mimetype": "text/x-python",
   "name": "python",
   "nbconvert_exporter": "python",
   "pygments_lexer": "ipython3",
   "version": "3.10.8"
  }
 },
 "nbformat": 4,
 "nbformat_minor": 5
}
